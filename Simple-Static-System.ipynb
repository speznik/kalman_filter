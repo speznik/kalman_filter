{
  "nbformat": 4,
  "nbformat_minor": 0,
  "metadata": {
    "colab": {
      "provenance": [],
      "authorship_tag": "ABX9TyNwYRJH+DKtAh/kqsh22rmf",
      "include_colab_link": true
    },
    "kernelspec": {
      "name": "python3",
      "display_name": "Python 3"
    },
    "language_info": {
      "name": "python"
    }
  },
  "cells": [
    {
      "cell_type": "markdown",
      "metadata": {
        "id": "view-in-github",
        "colab_type": "text"
      },
      "source": [
        "<a href=\"https://colab.research.google.com/github/speznik/multivariate_kalman_filter/blob/main/Simple-Static-System.ipynb\" target=\"_parent\"><img src=\"https://colab.research.google.com/assets/colab-badge.svg\" alt=\"Open In Colab\"/></a>"
      ]
    },
    {
      "cell_type": "markdown",
      "source": [
        "# Kalman Filter for One-dimensional Static Systems\n"
      ],
      "metadata": {
        "id": "QChxddfI2PBE"
      }
    },
    {
      "cell_type": "code",
      "execution_count": null,
      "metadata": {
        "id": "5mtgq1Hf2MlF"
      },
      "outputs": [],
      "source": [
        "from IPython.core.display import clear_output\n",
        "import math\n",
        "import random\n",
        "import numpy\n",
        "import matplotlib.pyplot as plt\n",
        "\n",
        "# Generating Array of measurements\n",
        "def measurement_generator(n, z):\n",
        "    out = []\n",
        "    for i in range(z):\n",
        "        rand = random.randint(-1*int(0.02*n), int(0.02*n))\n",
        "        out.append(int(rand+n))\n",
        "    return out\n",
        "\n",
        "true_value = 10000\n",
        "initial_guess = 10010\n",
        "state_estimate = initial_guess\n",
        "predicted_state = initial_guess\n",
        "n = 20 # Number of Iterations\n",
        "n1 = 1\n",
        "\n",
        "\n",
        "# Initializing value arrays for plotting\n",
        "true_list = []\n",
        "state_list = []\n",
        "measures = []\n",
        "measurements = measurement_generator(true_value, n)\n",
        "num_list = []\n",
        "\n",
        "# Array of true values against nth iteration\n",
        "# for i in range(n):\n",
        "#     true_list.append(true_value)\n",
        "\n",
        "while(n1 < n):\n",
        "\n",
        "    clear_output()\n",
        "\n",
        "    num_list.append(n1)\n",
        "    measures = measurements[:n1] # To be replaced with actual measurments updated with every iteration\n",
        "    true_list.append(true_value)\n",
        "\n",
        "    # Kalman Estimation Algorithm for Static System\n",
        "    kalman_gain = 1/n1\n",
        "    state_estimate = predicted_state + kalman_gain*(measures[n1-1] - predicted_state)\n",
        "    predicted_state = state_estimate\n",
        "    state_list.append(state_estimate)\n",
        "\n",
        "    # print(\"Measurements: \", measures)\n",
        "    # print(\"Kalman State Estimates: \", state_list)\n",
        "    # print(\"True Values: \", true_list)\n",
        "\n",
        "    n1+=1\n",
        "\n",
        "f = plt.figure()\n",
        "f.set_figwidth(10)\n",
        "f.set_figheight(7)\n",
        "\n",
        "plt.plot(num_list, measures, '-ro', label = 'Measurements')\n",
        "plt.plot(num_list, true_list, '-go', label = 'True Value')\n",
        "plt.plot(num_list, state_list, '-bo', label = 'Kalman Estimate')\n",
        "plt.xlabel('Number of Iterations (n)')\n",
        "plt.ylabel('Value')\n",
        "plt.legend(bbox_to_anchor=(0.77, 1.1), ncol=3)"
      ]
    }
  ]
}